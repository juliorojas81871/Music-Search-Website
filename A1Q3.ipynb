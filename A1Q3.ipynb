{
  "nbformat": 4,
  "nbformat_minor": 0,
  "metadata": {
    "colab": {
      "name": "A1Q3.ipynb",
      "provenance": [],
      "authorship_tag": "ABX9TyOtpfsH/Wk8o3GQGreBUkM5",
      "include_colab_link": true
    },
    "kernelspec": {
      "name": "python3",
      "display_name": "Python 3"
    },
    "language_info": {
      "name": "python"
    }
  },
  "cells": [
    {
      "cell_type": "markdown",
      "metadata": {
        "id": "view-in-github",
        "colab_type": "text"
      },
      "source": [
        "<a href=\"https://colab.research.google.com/github/juliorojas81871/Music-Search-Website/blob/main/A1Q3.ipynb\" target=\"_parent\"><img src=\"https://colab.research.google.com/assets/colab-badge.svg\" alt=\"Open In Colab\"/></a>"
      ]
    },
    {
      "cell_type": "code",
      "metadata": {
        "id": "tnQF57NlSZHI"
      },
      "source": [
        "import numpy as np\n",
        "import matplotlib.pyplot as plt"
      ],
      "execution_count": null,
      "outputs": []
    },
    {
      "cell_type": "code",
      "metadata": {
        "colab": {
          "base_uri": "https://localhost:8080/"
        },
        "id": "ZWlp6VnKUJRo",
        "outputId": "515ee88a-4db4-4851-b7b5-155f5134fcde"
      },
      "source": [
        "outcomes = []\n",
        "i =0 \n",
        "while i <= 1000:\n",
        "  x = np.random.randint(0,10) + 1\n",
        "  outcomes.append(x)\n",
        "  i+=1\n",
        "print(\"3A Experimental Value :\")\n",
        "print(outcomes.count(2)/1000) # printing no. of 2's divided by total number of trials"
      ],
      "execution_count": null,
      "outputs": [
        {
          "output_type": "stream",
          "text": [
            "3A Experimental Value :\n",
            "0.084\n"
          ],
          "name": "stdout"
        }
      ]
    },
    {
      "cell_type": "code",
      "metadata": {
        "colab": {
          "base_uri": "https://localhost:8080/",
          "height": 295
        },
        "id": "paZxoWAcUNvn",
        "outputId": "8ddfadc2-02ef-46cb-9741-76a37d17bcdc"
      },
      "source": [
        "prob=[] # list to store the outcomes\n",
        "trials=[] #stores the trials in each run\n",
        "\n",
        "for n in range(10,1000+1):\n",
        "\n",
        "  c2=0 # initial count of 2 is 0\n",
        "\n",
        "  for _ in range(n):\n",
        "     outcome = np.random.randint(0,10) + 1 #generate outcome n times \n",
        "     if outcome == 2 : # when outcome is equal to 2 adds to the count\n",
        "       c2 += 1 \n",
        "\n",
        "\n",
        "  probability=c2/n\n",
        "\n",
        "  # store the probability in the list prob\n",
        "  prob.append(probability)\n",
        "  trials.append(n)\n",
        "\n",
        "\n",
        "plt.plot(trials,prob,color='b')\n",
        "plt.xlabel(\"trials\")\n",
        "plt.ylabel(\"Probability\")\n",
        "plt.title(\"Probability of 2\")\n",
        "plt.show()\n"
      ],
      "execution_count": null,
      "outputs": [
        {
          "output_type": "display_data",
          "data": {
            "image/png": "[encoded data removed]",
            "text/plain": [
              "<Figure size 432x288 with 1 Axes>"
            ]
          },
          "metadata": {
            "tags": [],
            "needs_background": "light"
          }
        }
      ]
    },
    {
      "cell_type": "code",
      "metadata": {
        "id": "tKtMo8RGUQdE"
      },
      "source": [
        "#We can conclude when the number of trials increase the probability becomes constant or to its true value which is 0.10"
      ],
      "execution_count": null,
      "outputs": []
    }
  ]
}